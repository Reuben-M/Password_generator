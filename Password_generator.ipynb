{
 "cells": [
  {
   "cell_type": "code",
   "execution_count": 23,
   "id": "d289e519",
   "metadata": {},
   "outputs": [
    {
     "name": "stdout",
     "output_type": "stream",
     "text": [
      "The generated password is:  prettyjohn20#\n"
     ]
    }
   ],
   "source": [
    "# Password Autogenerator\n",
    "\n",
    "import random\n",
    "\n",
    "adj=['smooth','soft','hard','beautiful','scary','pretty','Artistic','smart','caring','brave','kind','strong','huge','small'\n",
    "           'sensitive','rough','expensive','cheap','fast','slow','friendly','foolish','cheerful','moist','exciting']\n",
    "\n",
    "nouns=['mountain','brick','wall','miltary','cupcake','engine','car','scooter','bus','tree','house','bakery','neptune','pluto','milkyway',\n",
    "      'solarsystem','america','india','japan','israel','blue','brown','black','john','anna',]\n",
    "\n",
    "num=list(range(0,100))\n",
    "punc=['?','<','>','!','@',';','.',',',':','-','_','[',']','{','}','(',')','$','<','>','/','+','#','$']\n",
    "\n",
    "print('The generated password is: ',random.choice(adj)+random.choice(nouns)+str(random.choice(num))+random.choice(punc))\n"
   ]
  },
  {
   "cell_type": "code",
   "execution_count": null,
   "id": "af73eac6",
   "metadata": {},
   "outputs": [],
   "source": []
  }
 ],
 "metadata": {
  "kernelspec": {
   "display_name": "Python 3",
   "language": "python",
   "name": "python3"
  },
  "language_info": {
   "codemirror_mode": {
    "name": "ipython",
    "version": 3
   },
   "file_extension": ".py",
   "mimetype": "text/x-python",
   "name": "python",
   "nbconvert_exporter": "python",
   "pygments_lexer": "ipython3",
   "version": "3.8.8"
  }
 },
 "nbformat": 4,
 "nbformat_minor": 5
}
